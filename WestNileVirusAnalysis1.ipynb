{
 "cells": [
  {
   "cell_type": "markdown",
   "id": "0f565820",
   "metadata": {},
   "source": [
    "<h1><center>Stats and Public Health Deliverable 1</center></h1>\n",
    "<h4><center>Rafael Almazan | BrainStation</center></h4>"
   ]
  },
  {
   "cell_type": "code",
   "execution_count": 1,
   "id": "3d357e06",
   "metadata": {},
   "outputs": [],
   "source": [
    "# Import the needed libraries\n",
    "import numpy as np\n",
    "import pandas as pd\n",
    "import matplotlib.pyplot as plt\n",
    "from matplotlib.colors import LogNorm, Normalize\n",
    "from matplotlib.ticker import MaxNLocator\n",
    "import seaborn as sns\n",
    "sns.set_style('darkgrid')\n",
    "%matplotlib inline"
   ]
  },
  {
   "cell_type": "code",
   "execution_count": 2,
   "id": "6ec6a627",
   "metadata": {},
   "outputs": [],
   "source": [
    "# read the mosquito data into pandas\n",
    "mosquito = pd.read_csv('mosquito_data.csv')"
   ]
  },
  {
   "cell_type": "markdown",
   "id": "b0e32fbf",
   "metadata": {},
   "source": [
    "## Part 1 - Basic Data Wrangling"
   ]
  },
  {
   "cell_type": "markdown",
   "id": "e40cd4cf",
   "metadata": {},
   "source": [
    "To start, we will take a peak at the Dataframe and get some quick information on the number of columns, and look for null values. We can also take a look at a quick summary of basic statistics for the numberical columns with .describe().\n",
    "\n"
   ]
  },
  {
   "cell_type": "code",
   "execution_count": 3,
   "id": "320537a9",
   "metadata": {},
   "outputs": [
    {
     "data": {
      "text/html": [
       "<div>\n",
       "<style scoped>\n",
       "    .dataframe tbody tr th:only-of-type {\n",
       "        vertical-align: middle;\n",
       "    }\n",
       "\n",
       "    .dataframe tbody tr th {\n",
       "        vertical-align: top;\n",
       "    }\n",
       "\n",
       "    .dataframe thead th {\n",
       "        text-align: right;\n",
       "    }\n",
       "</style>\n",
       "<table border=\"1\" class=\"dataframe\">\n",
       "  <thead>\n",
       "    <tr style=\"text-align: right;\">\n",
       "      <th></th>\n",
       "      <th>Year</th>\n",
       "      <th>Week</th>\n",
       "      <th>Address Block</th>\n",
       "      <th>Block</th>\n",
       "      <th>Trap</th>\n",
       "      <th>Trap type</th>\n",
       "      <th>Date</th>\n",
       "      <th>Mosquito number</th>\n",
       "      <th>Mosquito ID</th>\n",
       "      <th>WNV Present</th>\n",
       "      <th>Species</th>\n",
       "      <th>Lat</th>\n",
       "      <th>Lon</th>\n",
       "    </tr>\n",
       "  </thead>\n",
       "  <tbody>\n",
       "    <tr>\n",
       "      <th>0</th>\n",
       "      <td>2019</td>\n",
       "      <td>39</td>\n",
       "      <td>100XX W OHARE AIRPORT</td>\n",
       "      <td>100</td>\n",
       "      <td>T910</td>\n",
       "      <td>GRAVID</td>\n",
       "      <td>2019-09-26 00:09:00</td>\n",
       "      <td>2</td>\n",
       "      <td>Res</td>\n",
       "      <td>negative</td>\n",
       "      <td>CULEX RESTUANS</td>\n",
       "      <td>NaN</td>\n",
       "      <td>NaN</td>\n",
       "    </tr>\n",
       "    <tr>\n",
       "      <th>1</th>\n",
       "      <td>2019</td>\n",
       "      <td>39</td>\n",
       "      <td>52XX S KOLMAR AVE</td>\n",
       "      <td>52</td>\n",
       "      <td>T114</td>\n",
       "      <td>GRAVID</td>\n",
       "      <td>2019-09-26 00:09:00</td>\n",
       "      <td>1</td>\n",
       "      <td>Res</td>\n",
       "      <td>negative</td>\n",
       "      <td>CULEX RESTUANS</td>\n",
       "      <td>41.798211</td>\n",
       "      <td>-87.736925</td>\n",
       "    </tr>\n",
       "    <tr>\n",
       "      <th>2</th>\n",
       "      <td>2019</td>\n",
       "      <td>39</td>\n",
       "      <td>58XX N WESTERN AVE</td>\n",
       "      <td>58</td>\n",
       "      <td>T028</td>\n",
       "      <td>GRAVID</td>\n",
       "      <td>2019-09-26 00:09:00</td>\n",
       "      <td>2</td>\n",
       "      <td>Res</td>\n",
       "      <td>negative</td>\n",
       "      <td>CULEX RESTUANS</td>\n",
       "      <td>41.987245</td>\n",
       "      <td>-87.689417</td>\n",
       "    </tr>\n",
       "    <tr>\n",
       "      <th>3</th>\n",
       "      <td>2019</td>\n",
       "      <td>39</td>\n",
       "      <td>39XX N SPRINGFIELD AVE</td>\n",
       "      <td>39</td>\n",
       "      <td>T228</td>\n",
       "      <td>GRAVID</td>\n",
       "      <td>2019-09-26 00:09:00</td>\n",
       "      <td>1</td>\n",
       "      <td>Res</td>\n",
       "      <td>negative</td>\n",
       "      <td>CULEX RESTUANS</td>\n",
       "      <td>41.953664</td>\n",
       "      <td>-87.724987</td>\n",
       "    </tr>\n",
       "    <tr>\n",
       "      <th>4</th>\n",
       "      <td>2019</td>\n",
       "      <td>39</td>\n",
       "      <td>131XX S BRANDON AVE</td>\n",
       "      <td>131</td>\n",
       "      <td>T209</td>\n",
       "      <td>GRAVID</td>\n",
       "      <td>2019-09-26 00:09:00</td>\n",
       "      <td>9</td>\n",
       "      <td>Res</td>\n",
       "      <td>negative</td>\n",
       "      <td>CULEX RESTUANS</td>\n",
       "      <td>41.657069</td>\n",
       "      <td>-87.546049</td>\n",
       "    </tr>\n",
       "  </tbody>\n",
       "</table>\n",
       "</div>"
      ],
      "text/plain": [
       "   Year  Week           Address Block  Block  Trap Trap type  \\\n",
       "0  2019    39   100XX W OHARE AIRPORT    100  T910    GRAVID   \n",
       "1  2019    39       52XX S KOLMAR AVE     52  T114    GRAVID   \n",
       "2  2019    39      58XX N WESTERN AVE     58  T028    GRAVID   \n",
       "3  2019    39  39XX N SPRINGFIELD AVE     39  T228    GRAVID   \n",
       "4  2019    39     131XX S BRANDON AVE    131  T209    GRAVID   \n",
       "\n",
       "                  Date  Mosquito number Mosquito ID WNV Present  \\\n",
       "0  2019-09-26 00:09:00                2         Res    negative   \n",
       "1  2019-09-26 00:09:00                1         Res    negative   \n",
       "2  2019-09-26 00:09:00                2         Res    negative   \n",
       "3  2019-09-26 00:09:00                1         Res    negative   \n",
       "4  2019-09-26 00:09:00                9         Res    negative   \n",
       "\n",
       "          Species        Lat        Lon  \n",
       "0  CULEX RESTUANS        NaN        NaN  \n",
       "1  CULEX RESTUANS  41.798211 -87.736925  \n",
       "2  CULEX RESTUANS  41.987245 -87.689417  \n",
       "3  CULEX RESTUANS  41.953664 -87.724987  \n",
       "4  CULEX RESTUANS  41.657069 -87.546049  "
      ]
     },
     "metadata": {},
     "output_type": "display_data"
    }
   ],
   "source": [
    "display(mosquito.head())"
   ]
  },
  {
   "cell_type": "code",
   "execution_count": 4,
   "id": "ad73ecb7",
   "metadata": {},
   "outputs": [
    {
     "name": "stdout",
     "output_type": "stream",
     "text": [
      "<class 'pandas.core.frame.DataFrame'>\n",
      "RangeIndex: 18495 entries, 0 to 18494\n",
      "Data columns (total 13 columns):\n",
      " #   Column           Non-Null Count  Dtype  \n",
      "---  ------           --------------  -----  \n",
      " 0   Year             18495 non-null  int64  \n",
      " 1   Week             18495 non-null  int64  \n",
      " 2   Address Block    18495 non-null  object \n",
      " 3   Block            18495 non-null  int64  \n",
      " 4   Trap             18495 non-null  object \n",
      " 5   Trap type        18495 non-null  object \n",
      " 6   Date             18495 non-null  object \n",
      " 7   Mosquito number  18495 non-null  int64  \n",
      " 8   Mosquito ID      18495 non-null  object \n",
      " 9   WNV Present      18495 non-null  object \n",
      " 10  Species          18495 non-null  object \n",
      " 11  Lat              15571 non-null  float64\n",
      " 12  Lon              15571 non-null  float64\n",
      "dtypes: float64(2), int64(4), object(7)\n",
      "memory usage: 1.8+ MB\n"
     ]
    }
   ],
   "source": [
    "mosquito.info()"
   ]
  },
  {
   "cell_type": "code",
   "execution_count": 5,
   "id": "5dbaf2b5",
   "metadata": {},
   "outputs": [
    {
     "data": {
      "text/plain": [
       "Year                0.000000\n",
       "Week                0.000000\n",
       "Address Block       0.000000\n",
       "Block               0.000000\n",
       "Trap                0.000000\n",
       "Trap type           0.000000\n",
       "Date                0.000000\n",
       "Mosquito number     0.000000\n",
       "Mosquito ID         0.000000\n",
       "WNV Present         0.000000\n",
       "Species             0.000000\n",
       "Lat                15.809678\n",
       "Lon                15.809678\n",
       "dtype: float64"
      ]
     },
     "execution_count": 5,
     "metadata": {},
     "output_type": "execute_result"
    }
   ],
   "source": [
    "# check percentage of null values\n",
    "\n",
    "mosquito.isna().sum()/mosquito.shape[0]*100"
   ]
  },
  {
   "cell_type": "code",
   "execution_count": 6,
   "id": "97fe2eb9",
   "metadata": {},
   "outputs": [
    {
     "data": {
      "text/html": [
       "<div>\n",
       "<style scoped>\n",
       "    .dataframe tbody tr th:only-of-type {\n",
       "        vertical-align: middle;\n",
       "    }\n",
       "\n",
       "    .dataframe tbody tr th {\n",
       "        vertical-align: top;\n",
       "    }\n",
       "\n",
       "    .dataframe thead th {\n",
       "        text-align: right;\n",
       "    }\n",
       "</style>\n",
       "<table border=\"1\" class=\"dataframe\">\n",
       "  <thead>\n",
       "    <tr style=\"text-align: right;\">\n",
       "      <th></th>\n",
       "      <th>Year</th>\n",
       "      <th>Week</th>\n",
       "      <th>Block</th>\n",
       "      <th>Mosquito number</th>\n",
       "      <th>Lat</th>\n",
       "      <th>Lon</th>\n",
       "    </tr>\n",
       "  </thead>\n",
       "  <tbody>\n",
       "    <tr>\n",
       "      <th>count</th>\n",
       "      <td>18495.000000</td>\n",
       "      <td>18495.000000</td>\n",
       "      <td>18495.000000</td>\n",
       "      <td>18495.000000</td>\n",
       "      <td>15571.000000</td>\n",
       "      <td>15571.000000</td>\n",
       "    </tr>\n",
       "    <tr>\n",
       "      <th>mean</th>\n",
       "      <td>2012.905812</td>\n",
       "      <td>31.004001</td>\n",
       "      <td>54.314788</td>\n",
       "      <td>10.879913</td>\n",
       "      <td>41.839963</td>\n",
       "      <td>-87.691642</td>\n",
       "    </tr>\n",
       "    <tr>\n",
       "      <th>std</th>\n",
       "      <td>3.725857</td>\n",
       "      <td>4.332020</td>\n",
       "      <td>36.712796</td>\n",
       "      <td>13.475066</td>\n",
       "      <td>0.111374</td>\n",
       "      <td>0.076545</td>\n",
       "    </tr>\n",
       "    <tr>\n",
       "      <th>min</th>\n",
       "      <td>2007.000000</td>\n",
       "      <td>20.000000</td>\n",
       "      <td>1.000000</td>\n",
       "      <td>1.000000</td>\n",
       "      <td>41.644720</td>\n",
       "      <td>-87.854473</td>\n",
       "    </tr>\n",
       "    <tr>\n",
       "      <th>25%</th>\n",
       "      <td>2010.000000</td>\n",
       "      <td>28.000000</td>\n",
       "      <td>22.000000</td>\n",
       "      <td>2.000000</td>\n",
       "      <td>41.742670</td>\n",
       "      <td>-87.747459</td>\n",
       "    </tr>\n",
       "    <tr>\n",
       "      <th>50%</th>\n",
       "      <td>2013.000000</td>\n",
       "      <td>31.000000</td>\n",
       "      <td>51.000000</td>\n",
       "      <td>5.000000</td>\n",
       "      <td>41.845715</td>\n",
       "      <td>-87.691698</td>\n",
       "    </tr>\n",
       "    <tr>\n",
       "      <th>75%</th>\n",
       "      <td>2016.000000</td>\n",
       "      <td>34.000000</td>\n",
       "      <td>89.000000</td>\n",
       "      <td>14.000000</td>\n",
       "      <td>41.945961</td>\n",
       "      <td>-87.637873</td>\n",
       "    </tr>\n",
       "    <tr>\n",
       "      <th>max</th>\n",
       "      <td>2019.000000</td>\n",
       "      <td>40.000000</td>\n",
       "      <td>132.000000</td>\n",
       "      <td>50.000000</td>\n",
       "      <td>42.017801</td>\n",
       "      <td>-87.531051</td>\n",
       "    </tr>\n",
       "  </tbody>\n",
       "</table>\n",
       "</div>"
      ],
      "text/plain": [
       "               Year          Week         Block  Mosquito number  \\\n",
       "count  18495.000000  18495.000000  18495.000000     18495.000000   \n",
       "mean    2012.905812     31.004001     54.314788        10.879913   \n",
       "std        3.725857      4.332020     36.712796        13.475066   \n",
       "min     2007.000000     20.000000      1.000000         1.000000   \n",
       "25%     2010.000000     28.000000     22.000000         2.000000   \n",
       "50%     2013.000000     31.000000     51.000000         5.000000   \n",
       "75%     2016.000000     34.000000     89.000000        14.000000   \n",
       "max     2019.000000     40.000000    132.000000        50.000000   \n",
       "\n",
       "                Lat           Lon  \n",
       "count  15571.000000  15571.000000  \n",
       "mean      41.839963    -87.691642  \n",
       "std        0.111374      0.076545  \n",
       "min       41.644720    -87.854473  \n",
       "25%       41.742670    -87.747459  \n",
       "50%       41.845715    -87.691698  \n",
       "75%       41.945961    -87.637873  \n",
       "max       42.017801    -87.531051  "
      ]
     },
     "execution_count": 6,
     "metadata": {},
     "output_type": "execute_result"
    }
   ],
   "source": [
    "# get an overview of the mosquito numerical data\n",
    "mosquito.describe()"
   ]
  },
  {
   "cell_type": "markdown",
   "id": "1e365d3c",
   "metadata": {},
   "source": [
    "We see that we have about 18495 rows and 13 columns in this dataframe. The dataframe contains rows of West Nile Virus (WNV) tests and information surrounding the date, location, mosquito species, and outcome of these tests"
   ]
  },
  {
   "cell_type": "code",
   "execution_count": 7,
   "id": "2cc36575",
   "metadata": {},
   "outputs": [
    {
     "data": {
      "text/plain": [
       "(18495, 13)"
      ]
     },
     "execution_count": 7,
     "metadata": {},
     "output_type": "execute_result"
    }
   ],
   "source": [
    "# view how many rows and columns are in the dataframe\n",
    "mosquito.shape"
   ]
  },
  {
   "cell_type": "markdown",
   "id": "95f4851b",
   "metadata": {},
   "source": [
    "This mosquito dataframe has the shape (18495, 13) which means that there are 18495 rows of data (WNV tests) and 13 different columns"
   ]
  },
  {
   "cell_type": "code",
   "execution_count": 8,
   "id": "a4cf8c6c",
   "metadata": {},
   "outputs": [
    {
     "data": {
      "text/plain": [
       "str"
      ]
     },
     "execution_count": 8,
     "metadata": {},
     "output_type": "execute_result"
    }
   ],
   "source": [
    "# checking what type each value in the Date column is\n",
    "type(mosquito['Date'][0])"
   ]
  },
  {
   "cell_type": "code",
   "execution_count": 9,
   "id": "fc5ddb8a",
   "metadata": {},
   "outputs": [],
   "source": [
    "# convert the Date column into a datetime64 type\n",
    "mosquito['Date'] = pd.to_datetime(mosquito['Date'])"
   ]
  },
  {
   "cell_type": "code",
   "execution_count": 10,
   "id": "5c7bedbf",
   "metadata": {},
   "outputs": [
    {
     "data": {
      "text/plain": [
       "0       2019-09-26 00:09:00\n",
       "1       2019-09-26 00:09:00\n",
       "2       2019-09-26 00:09:00\n",
       "3       2019-09-26 00:09:00\n",
       "4       2019-09-26 00:09:00\n",
       "                ...        \n",
       "18490   2016-09-09 00:09:00\n",
       "18491   2007-08-24 00:08:00\n",
       "18492   2016-07-27 00:07:00\n",
       "18493   2017-08-17 00:08:00\n",
       "18494   2015-08-20 00:08:00\n",
       "Name: Date, Length: 18495, dtype: datetime64[ns]"
      ]
     },
     "execution_count": 10,
     "metadata": {},
     "output_type": "execute_result"
    }
   ],
   "source": [
    "mosquito['Date'] # making sure the type is datetime"
   ]
  },
  {
   "cell_type": "code",
   "execution_count": 11,
   "id": "0751e713",
   "metadata": {},
   "outputs": [
    {
     "data": {
      "text/html": [
       "<div>\n",
       "<style scoped>\n",
       "    .dataframe tbody tr th:only-of-type {\n",
       "        vertical-align: middle;\n",
       "    }\n",
       "\n",
       "    .dataframe tbody tr th {\n",
       "        vertical-align: top;\n",
       "    }\n",
       "\n",
       "    .dataframe thead th {\n",
       "        text-align: right;\n",
       "    }\n",
       "</style>\n",
       "<table border=\"1\" class=\"dataframe\">\n",
       "  <thead>\n",
       "    <tr style=\"text-align: right;\">\n",
       "      <th></th>\n",
       "      <th>Year</th>\n",
       "      <th>Week</th>\n",
       "      <th>Address Block</th>\n",
       "      <th>Block</th>\n",
       "      <th>Trap</th>\n",
       "      <th>Trap type</th>\n",
       "      <th>Date</th>\n",
       "      <th>Mosquito number</th>\n",
       "      <th>Mosquito ID</th>\n",
       "      <th>WNV Present</th>\n",
       "      <th>Species</th>\n",
       "      <th>Lat</th>\n",
       "      <th>Lon</th>\n",
       "    </tr>\n",
       "  </thead>\n",
       "  <tbody>\n",
       "    <tr>\n",
       "      <th>0</th>\n",
       "      <td>2019</td>\n",
       "      <td>39</td>\n",
       "      <td>100XX W OHARE AIRPORT</td>\n",
       "      <td>100</td>\n",
       "      <td>T910</td>\n",
       "      <td>GRAVID</td>\n",
       "      <td>2019-09-26 00:09:00</td>\n",
       "      <td>2</td>\n",
       "      <td>Res</td>\n",
       "      <td>negative</td>\n",
       "      <td>CULEX RESTUANS</td>\n",
       "      <td>NaN</td>\n",
       "      <td>NaN</td>\n",
       "    </tr>\n",
       "    <tr>\n",
       "      <th>1</th>\n",
       "      <td>2019</td>\n",
       "      <td>39</td>\n",
       "      <td>52XX S KOLMAR AVE</td>\n",
       "      <td>52</td>\n",
       "      <td>T114</td>\n",
       "      <td>GRAVID</td>\n",
       "      <td>2019-09-26 00:09:00</td>\n",
       "      <td>1</td>\n",
       "      <td>Res</td>\n",
       "      <td>negative</td>\n",
       "      <td>CULEX RESTUANS</td>\n",
       "      <td>41.798211</td>\n",
       "      <td>-87.736925</td>\n",
       "    </tr>\n",
       "    <tr>\n",
       "      <th>2</th>\n",
       "      <td>2019</td>\n",
       "      <td>39</td>\n",
       "      <td>58XX N WESTERN AVE</td>\n",
       "      <td>58</td>\n",
       "      <td>T028</td>\n",
       "      <td>GRAVID</td>\n",
       "      <td>2019-09-26 00:09:00</td>\n",
       "      <td>2</td>\n",
       "      <td>Res</td>\n",
       "      <td>negative</td>\n",
       "      <td>CULEX RESTUANS</td>\n",
       "      <td>41.987245</td>\n",
       "      <td>-87.689417</td>\n",
       "    </tr>\n",
       "    <tr>\n",
       "      <th>3</th>\n",
       "      <td>2019</td>\n",
       "      <td>39</td>\n",
       "      <td>39XX N SPRINGFIELD AVE</td>\n",
       "      <td>39</td>\n",
       "      <td>T228</td>\n",
       "      <td>GRAVID</td>\n",
       "      <td>2019-09-26 00:09:00</td>\n",
       "      <td>1</td>\n",
       "      <td>Res</td>\n",
       "      <td>negative</td>\n",
       "      <td>CULEX RESTUANS</td>\n",
       "      <td>41.953664</td>\n",
       "      <td>-87.724987</td>\n",
       "    </tr>\n",
       "    <tr>\n",
       "      <th>4</th>\n",
       "      <td>2019</td>\n",
       "      <td>39</td>\n",
       "      <td>131XX S BRANDON AVE</td>\n",
       "      <td>131</td>\n",
       "      <td>T209</td>\n",
       "      <td>GRAVID</td>\n",
       "      <td>2019-09-26 00:09:00</td>\n",
       "      <td>9</td>\n",
       "      <td>Res</td>\n",
       "      <td>negative</td>\n",
       "      <td>CULEX RESTUANS</td>\n",
       "      <td>41.657069</td>\n",
       "      <td>-87.546049</td>\n",
       "    </tr>\n",
       "  </tbody>\n",
       "</table>\n",
       "</div>"
      ],
      "text/plain": [
       "   Year  Week           Address Block  Block  Trap Trap type  \\\n",
       "0  2019    39   100XX W OHARE AIRPORT    100  T910    GRAVID   \n",
       "1  2019    39       52XX S KOLMAR AVE     52  T114    GRAVID   \n",
       "2  2019    39      58XX N WESTERN AVE     58  T028    GRAVID   \n",
       "3  2019    39  39XX N SPRINGFIELD AVE     39  T228    GRAVID   \n",
       "4  2019    39     131XX S BRANDON AVE    131  T209    GRAVID   \n",
       "\n",
       "                 Date  Mosquito number Mosquito ID WNV Present  \\\n",
       "0 2019-09-26 00:09:00                2         Res    negative   \n",
       "1 2019-09-26 00:09:00                1         Res    negative   \n",
       "2 2019-09-26 00:09:00                2         Res    negative   \n",
       "3 2019-09-26 00:09:00                1         Res    negative   \n",
       "4 2019-09-26 00:09:00                9         Res    negative   \n",
       "\n",
       "          Species        Lat        Lon  \n",
       "0  CULEX RESTUANS        NaN        NaN  \n",
       "1  CULEX RESTUANS  41.798211 -87.736925  \n",
       "2  CULEX RESTUANS  41.987245 -87.689417  \n",
       "3  CULEX RESTUANS  41.953664 -87.724987  \n",
       "4  CULEX RESTUANS  41.657069 -87.546049  "
      ]
     },
     "execution_count": 11,
     "metadata": {},
     "output_type": "execute_result"
    }
   ],
   "source": [
    "mosquito.head()"
   ]
  },
  {
   "cell_type": "markdown",
   "id": "3e4abbf7",
   "metadata": {},
   "source": [
    "Now we are going to check the distributions for some of the columns"
   ]
  },
  {
   "cell_type": "code",
   "execution_count": 12,
   "id": "e92d4dcb",
   "metadata": {},
   "outputs": [
    {
     "data": {
      "text/plain": [
       "<Figure size 640x480 with 0 Axes>"
      ]
     },
     "metadata": {},
     "output_type": "display_data"
    },
    {
     "data": {
      "image/png": "[encoded data removed]",
      "text/plain": [
       "<Figure size 500x500 with 1 Axes>"
      ]
     },
     "metadata": {},
     "output_type": "display_data"
    }
   ],
   "source": [
    "# plotting a histogram of mosquito numbers\n",
    "plt.figure()\n",
    "sns.displot(mosquito['Mosquito number'])\n",
    "plt.title(\"Distribution of Mosquito number\")\n",
    "plt.show()"
   ]
  },
  {
   "cell_type": "code",
   "execution_count": 13,
   "id": "51fa58ca",
   "metadata": {},
   "outputs": [
    {
     "data": {
      "text/plain": [
       "<Figure size 640x480 with 0 Axes>"
      ]
     },
     "metadata": {},
     "output_type": "display_data"
    },
    {
     "data": {
      "image/png": "[encoded data removed]",
      "text/plain": [
       "<Figure size 500x500 with 1 Axes>"
      ]
     },
     "metadata": {},
     "output_type": "display_data"
    }
   ],
   "source": [
    "# plotting a histogram for distribution of the weeks in the year\n",
    "plt.figure()\n",
    "sns.displot(mosquito['Week'])\n",
    "plt.title('Distribution of Weeks of the year')\n",
    "plt.show()"
   ]
  },
  {
   "cell_type": "code",
   "execution_count": 14,
   "id": "56f0d4ed",
   "metadata": {},
   "outputs": [
    {
     "data": {
      "text/plain": [
       "<Figure size 640x480 with 0 Axes>"
      ]
     },
     "metadata": {},
     "output_type": "display_data"
    },
    {
     "data": {
      "image/png": "[encoded data removed]",
      "text/plain": [
       "<Figure size 500x500 with 1 Axes>"
      ]
     },
     "metadata": {},
     "output_type": "display_data"
    }
   ],
   "source": [
    "# plotting a bar plot of the distribution of positive and negative test results\n",
    "plt.figure()\n",
    "sns.displot(mosquito['WNV Present'])\n",
    "plt.title('Distribution of Test Results')\n",
    "plt.show()"
   ]
  },
  {
   "cell_type": "code",
   "execution_count": 15,
   "id": "5f69549c",
   "metadata": {},
   "outputs": [
    {
     "data": {
      "text/plain": [
       "<Figure size 640x480 with 0 Axes>"
      ]
     },
     "metadata": {},
     "output_type": "display_data"
    },
    {
     "data": {
      "image/png": "[encoded data removed]",
      "text/plain": [
       "<Figure size 500x500 with 1 Axes>"
      ]
     },
     "metadata": {},
     "output_type": "display_data"
    }
   ],
   "source": [
    "# plotting a bar plot of the distribution of different species of mosquito\n",
    "plt.figure()\n",
    "sns.displot(mosquito['Mosquito ID'])\n",
    "plt.title('Distribution of Mosquito ID')\n",
    "plt.show()"
   ]
  },
  {
   "cell_type": "markdown",
   "id": "79ad9089",
   "metadata": {},
   "source": [
    "### 1.3: Description of two numeric and two categorical columns\n",
    "\n",
    "**Mosquito number:** \n",
    "This numerical column stores the number of mosquitos that were caught in the specific trap. This column is exponentially distributed (see distribution graph above). There is a slight increase at a mosquito number of 50. This could be due to the limitation that the mosquito number caps at 50 and splits to another row if it is above 50.\n",
    "\n",
    "**Week:**\n",
    "This numerical column stores the week of the year that the West Nile Virus test was performed. This column has a normal distribution with the peak being about 32 weeks into the year.\n",
    "\n",
    "**WNV Present:**\n",
    "This categorical column stores whether the West Nile Virus was present in the trapped mosquitos. This is a Bernoulli distribution since there are only two choices, positive or negative.\n",
    "\n",
    "**Mosquito ID:**\n",
    "This categorical column shows the abbreviated species names and follows a categorical distribution. This is not a uniform distribution because the species are not all caught at the same rate."
   ]
  },
  {
   "cell_type": "code",
   "execution_count": 16,
   "id": "4b679574",
   "metadata": {},
   "outputs": [
    {
     "data": {
      "text/plain": [
       "array(['CULEX RESTUANS', 'CULEX TERRITANS', 'CULEX SALINARIUS',\n",
       "       'CULEX PIPIENS'], dtype=object)"
      ]
     },
     "metadata": {},
     "output_type": "display_data"
    },
    {
     "data": {
      "text/plain": [
       "array(['Res', 'Ter', 'Sal', 'Pip'], dtype=object)"
      ]
     },
     "metadata": {},
     "output_type": "display_data"
    }
   ],
   "source": [
    "# making sure that Species and Mosquito ID Match\n",
    "display(mosquito['Species'].unique())\n",
    "display(mosquito['Mosquito ID'].unique())"
   ]
  },
  {
   "cell_type": "code",
   "execution_count": 17,
   "id": "cf05c484",
   "metadata": {},
   "outputs": [
    {
     "data": {
      "text/plain": [
       "0        2019\n",
       "1        2019\n",
       "2        2019\n",
       "3        2019\n",
       "4        2019\n",
       "         ... \n",
       "18490    2016\n",
       "18491    2007\n",
       "18492    2016\n",
       "18493    2017\n",
       "18494    2015\n",
       "Name: year, Length: 18495, dtype: UInt32"
      ]
     },
     "execution_count": 17,
     "metadata": {},
     "output_type": "execute_result"
    }
   ],
   "source": [
    "# testing if you can take the year and week from a datetime data type\n",
    "mosquito['Date'].dt.isocalendar().year"
   ]
  },
  {
   "cell_type": "markdown",
   "id": "8f0c2e6b",
   "metadata": {},
   "source": [
    "### 1.4: Redundant columns \n",
    "\n",
    "There are multiple columns that tell us the same information. We will now remove these redundant columns. \n",
    "\n",
    "The Week and Year column is redundant since we already have the Date column which includes the Date and Time. We are able to extract both the week and the year from this datetime data type.\n",
    "\n",
    "The Species column is also redundant. We already have the species ID for each mosquito. These IDs match the mosquito species by taking the first three characters of each species. Since the genus is the same for all four species, we do not need the genus information.\n",
    "\n",
    "We will also be removing the Block column since the block is already included in Address Block."
   ]
  },
  {
   "cell_type": "code",
   "execution_count": 18,
   "id": "3e5f7664",
   "metadata": {},
   "outputs": [],
   "source": [
    "# saving a checkpoint of mosquito dataset with the Week, Year, and Species\n",
    "mosquito1 = mosquito\n",
    "\n",
    "# dropping the Week, Year, and Species columns from the mosquito dataset\n",
    "mosquito = mosquito.drop(['Week', 'Year', 'Species', 'Block'], axis=1)\n"
   ]
  },
  {
   "cell_type": "markdown",
   "id": "7ac5031f",
   "metadata": {},
   "source": [
    "The Mosquito ID of each Genus and Species\n",
    "\n",
    "1. *Culex Pipiens* - pip\n",
    "2. *Culex Restuans* - res\n",
    "3. *Culex Salinarius* - sal\n",
    "4. *Culex Territans* - ter"
   ]
  },
  {
   "cell_type": "code",
   "execution_count": 19,
   "id": "8b8eeb2a",
   "metadata": {},
   "outputs": [
    {
     "data": {
      "text/html": [
       "<div>\n",
       "<style scoped>\n",
       "    .dataframe tbody tr th:only-of-type {\n",
       "        vertical-align: middle;\n",
       "    }\n",
       "\n",
       "    .dataframe tbody tr th {\n",
       "        vertical-align: top;\n",
       "    }\n",
       "\n",
       "    .dataframe thead th {\n",
       "        text-align: right;\n",
       "    }\n",
       "</style>\n",
       "<table border=\"1\" class=\"dataframe\">\n",
       "  <thead>\n",
       "    <tr style=\"text-align: right;\">\n",
       "      <th></th>\n",
       "      <th>Address Block</th>\n",
       "      <th>Trap</th>\n",
       "      <th>Trap type</th>\n",
       "      <th>Date</th>\n",
       "      <th>Mosquito number</th>\n",
       "      <th>Mosquito ID</th>\n",
       "      <th>WNV Present</th>\n",
       "      <th>Lat</th>\n",
       "      <th>Lon</th>\n",
       "    </tr>\n",
       "  </thead>\n",
       "  <tbody>\n",
       "    <tr>\n",
       "      <th>0</th>\n",
       "      <td>100XX W OHARE AIRPORT</td>\n",
       "      <td>T910</td>\n",
       "      <td>GRAVID</td>\n",
       "      <td>2019-09-26 00:09:00</td>\n",
       "      <td>2</td>\n",
       "      <td>Res</td>\n",
       "      <td>negative</td>\n",
       "      <td>NaN</td>\n",
       "      <td>NaN</td>\n",
       "    </tr>\n",
       "    <tr>\n",
       "      <th>1</th>\n",
       "      <td>52XX S KOLMAR AVE</td>\n",
       "      <td>T114</td>\n",
       "      <td>GRAVID</td>\n",
       "      <td>2019-09-26 00:09:00</td>\n",
       "      <td>1</td>\n",
       "      <td>Res</td>\n",
       "      <td>negative</td>\n",
       "      <td>41.798211</td>\n",
       "      <td>-87.736925</td>\n",
       "    </tr>\n",
       "    <tr>\n",
       "      <th>2</th>\n",
       "      <td>58XX N WESTERN AVE</td>\n",
       "      <td>T028</td>\n",
       "      <td>GRAVID</td>\n",
       "      <td>2019-09-26 00:09:00</td>\n",
       "      <td>2</td>\n",
       "      <td>Res</td>\n",
       "      <td>negative</td>\n",
       "      <td>41.987245</td>\n",
       "      <td>-87.689417</td>\n",
       "    </tr>\n",
       "    <tr>\n",
       "      <th>3</th>\n",
       "      <td>39XX N SPRINGFIELD AVE</td>\n",
       "      <td>T228</td>\n",
       "      <td>GRAVID</td>\n",
       "      <td>2019-09-26 00:09:00</td>\n",
       "      <td>1</td>\n",
       "      <td>Res</td>\n",
       "      <td>negative</td>\n",
       "      <td>41.953664</td>\n",
       "      <td>-87.724987</td>\n",
       "    </tr>\n",
       "    <tr>\n",
       "      <th>4</th>\n",
       "      <td>131XX S BRANDON AVE</td>\n",
       "      <td>T209</td>\n",
       "      <td>GRAVID</td>\n",
       "      <td>2019-09-26 00:09:00</td>\n",
       "      <td>9</td>\n",
       "      <td>Res</td>\n",
       "      <td>negative</td>\n",
       "      <td>41.657069</td>\n",
       "      <td>-87.546049</td>\n",
       "    </tr>\n",
       "  </tbody>\n",
       "</table>\n",
       "</div>"
      ],
      "text/plain": [
       "            Address Block  Trap Trap type                Date  \\\n",
       "0   100XX W OHARE AIRPORT  T910    GRAVID 2019-09-26 00:09:00   \n",
       "1       52XX S KOLMAR AVE  T114    GRAVID 2019-09-26 00:09:00   \n",
       "2      58XX N WESTERN AVE  T028    GRAVID 2019-09-26 00:09:00   \n",
       "3  39XX N SPRINGFIELD AVE  T228    GRAVID 2019-09-26 00:09:00   \n",
       "4     131XX S BRANDON AVE  T209    GRAVID 2019-09-26 00:09:00   \n",
       "\n",
       "   Mosquito number Mosquito ID WNV Present        Lat        Lon  \n",
       "0                2         Res    negative        NaN        NaN  \n",
       "1                1         Res    negative  41.798211 -87.736925  \n",
       "2                2         Res    negative  41.987245 -87.689417  \n",
       "3                1         Res    negative  41.953664 -87.724987  \n",
       "4                9         Res    negative  41.657069 -87.546049  "
      ]
     },
     "execution_count": 19,
     "metadata": {},
     "output_type": "execute_result"
    }
   ],
   "source": [
    "# taking a look at the dataframe to make sure columns have been dropped\n",
    "mosquito.head()\n"
   ]
  },
  {
   "cell_type": "markdown",
   "id": "6efe3602",
   "metadata": {},
   "source": [
    "While we filtered out for redundant columns, we are not filtering out for all duplicate rows since the tests are organized in a way that when the number of mosquitos exceed 50, they split it into another row. These may account for duplicates if the number of mosquitos in a test reaches above 100. We will only drop a row if a row is duplicated and does not have a mosquito number of 50. \n",
    "\n",
    "Even among the duplicated rows, there are NULL Latitude and Longitude Values and so we are not confident that these are from the same trap. Therefore we are only removing the duplicates with a valid Lat and Lon value.\n",
    "\n",
    "We will keep these rows that have a Mosquito number of 50 in our dataframe. We are unable to add these together since many of them have NULL Latitude and Longitude values so we do not have 100% confidence that they are from the same trap.\n"
   ]
  },
  {
   "cell_type": "code",
   "execution_count": 20,
   "id": "61a49df9",
   "metadata": {},
   "outputs": [
    {
     "data": {
      "text/plain": [
       "662"
      ]
     },
     "execution_count": 20,
     "metadata": {},
     "output_type": "execute_result"
    }
   ],
   "source": [
    "# making a checkpoint for our dataframe\n",
    "\n",
    "mosquito2 = mosquito\n",
    "mosquito2.duplicated().sum() # mosquito data with duplicates"
   ]
  },
  {
   "cell_type": "code",
   "execution_count": 21,
   "id": "9e0fbc44",
   "metadata": {},
   "outputs": [
    {
     "data": {
      "text/html": [
       "<div>\n",
       "<style scoped>\n",
       "    .dataframe tbody tr th:only-of-type {\n",
       "        vertical-align: middle;\n",
       "    }\n",
       "\n",
       "    .dataframe tbody tr th {\n",
       "        vertical-align: top;\n",
       "    }\n",
       "\n",
       "    .dataframe thead th {\n",
       "        text-align: right;\n",
       "    }\n",
       "</style>\n",
       "<table border=\"1\" class=\"dataframe\">\n",
       "  <thead>\n",
       "    <tr style=\"text-align: right;\">\n",
       "      <th></th>\n",
       "      <th>Address Block</th>\n",
       "      <th>Trap</th>\n",
       "      <th>Trap type</th>\n",
       "      <th>Date</th>\n",
       "      <th>Mosquito number</th>\n",
       "      <th>Mosquito ID</th>\n",
       "      <th>WNV Present</th>\n",
       "      <th>Lat</th>\n",
       "      <th>Lon</th>\n",
       "    </tr>\n",
       "  </thead>\n",
       "  <tbody>\n",
       "    <tr>\n",
       "      <th>2832</th>\n",
       "      <td>58XX N RIDGE AVE</td>\n",
       "      <td>T231</td>\n",
       "      <td>GRAVID</td>\n",
       "      <td>2017-07-14 00:07:00</td>\n",
       "      <td>2</td>\n",
       "      <td>Res</td>\n",
       "      <td>negative</td>\n",
       "      <td>41.987881</td>\n",
       "      <td>-87.666785</td>\n",
       "    </tr>\n",
       "    <tr>\n",
       "      <th>2856</th>\n",
       "      <td>20XX N DOMINICK ST</td>\n",
       "      <td>T240</td>\n",
       "      <td>GRAVID</td>\n",
       "      <td>2017-07-14 00:07:00</td>\n",
       "      <td>1</td>\n",
       "      <td>Res</td>\n",
       "      <td>negative</td>\n",
       "      <td>41.918676</td>\n",
       "      <td>-87.664374</td>\n",
       "    </tr>\n",
       "  </tbody>\n",
       "</table>\n",
       "</div>"
      ],
      "text/plain": [
       "           Address Block  Trap Trap type                Date  Mosquito number  \\\n",
       "2832    58XX N RIDGE AVE  T231    GRAVID 2017-07-14 00:07:00                2   \n",
       "2856  20XX N DOMINICK ST  T240    GRAVID 2017-07-14 00:07:00                1   \n",
       "\n",
       "     Mosquito ID WNV Present        Lat        Lon  \n",
       "2832         Res    negative  41.987881 -87.666785  \n",
       "2856         Res    negative  41.918676 -87.664374  "
      ]
     },
     "execution_count": 21,
     "metadata": {},
     "output_type": "execute_result"
    }
   ],
   "source": [
    "# dataframe of duplicate rows that do not have a mosquito number of 50\n",
    "\n",
    "mosquito[(mosquito.duplicated()) & ~(mosquito['Mosquito number'] == 50) & ~(mosquito['Lat'].isna())]\n",
    "\n",
    "# only end up removing 2 rows"
   ]
  },
  {
   "cell_type": "code",
   "execution_count": 22,
   "id": "58114eab",
   "metadata": {},
   "outputs": [],
   "source": [
    "# droping all duplicates that do not have a mosquito number of 50\n",
    "mosquito = mosquito.drop(mosquito[(mosquito.duplicated()) & ~(mosquito['Mosquito number'] == 50) & ~(mosquito['Lat'].isna())].index)"
   ]
  },
  {
   "cell_type": "code",
   "execution_count": 23,
   "id": "8448238f",
   "metadata": {},
   "outputs": [
    {
     "data": {
      "text/html": [
       "<div>\n",
       "<style scoped>\n",
       "    .dataframe tbody tr th:only-of-type {\n",
       "        vertical-align: middle;\n",
       "    }\n",
       "\n",
       "    .dataframe tbody tr th {\n",
       "        vertical-align: top;\n",
       "    }\n",
       "\n",
       "    .dataframe thead th {\n",
       "        text-align: right;\n",
       "    }\n",
       "</style>\n",
       "<table border=\"1\" class=\"dataframe\">\n",
       "  <thead>\n",
       "    <tr style=\"text-align: right;\">\n",
       "      <th></th>\n",
       "      <th>Address Block</th>\n",
       "      <th>Trap</th>\n",
       "      <th>Trap type</th>\n",
       "      <th>Date</th>\n",
       "      <th>Mosquito number</th>\n",
       "      <th>Mosquito ID</th>\n",
       "      <th>WNV Present</th>\n",
       "      <th>Lat</th>\n",
       "      <th>Lon</th>\n",
       "    </tr>\n",
       "  </thead>\n",
       "  <tbody>\n",
       "  </tbody>\n",
       "</table>\n",
       "</div>"
      ],
      "text/plain": [
       "Empty DataFrame\n",
       "Columns: [Address Block, Trap, Trap type, Date, Mosquito number, Mosquito ID, WNV Present, Lat, Lon]\n",
       "Index: []"
      ]
     },
     "execution_count": 23,
     "metadata": {},
     "output_type": "execute_result"
    }
   ],
   "source": [
    "# checking to see if there are still any duplicates without a mosquito number of 50\n",
    "mosquito[(mosquito.duplicated()) & ~(mosquito['Mosquito number'] == 50) & ~(mosquito['Lat'].isna())]"
   ]
  },
  {
   "cell_type": "code",
   "execution_count": 24,
   "id": "333e4930",
   "metadata": {},
   "outputs": [
    {
     "data": {
      "text/plain": [
       "array([nan])"
      ]
     },
     "execution_count": 24,
     "metadata": {},
     "output_type": "execute_result"
    }
   ],
   "source": [
    "# making sure all duplicated has Lat == NULL\n",
    "mosquito[mosquito.duplicated()]['Lat'].unique()"
   ]
  },
  {
   "cell_type": "markdown",
   "id": "8d64a04f",
   "metadata": {},
   "source": [
    "### 1.5: Dealing with NULL values\n",
    "\n",
    "Both the Latitude and Longitude columns contain NULL values. These NULL values account for about 16% of the total Latitude and Longitude numbers.\n",
    "\n",
    "Since the Latitude and Longitude are not important for the purposes of our specific study. We are going to drop the Latitude and Longitude columns. This will also rid our data of unnecessary columns\n",
    "\n",
    "It would not make sense to imputate mean or median values for the Lat and Lon columns since they are coordinates. Taking the mean or median will not do us any good. We are also not going to take away rows with null Lat and Lon values since they would take away from our sample. We are much more concerned with the WNV test outcomes and the mosquito numbers than Lat and Lon values. Therefore, it is more justifiable to retain those rows and remove the Lat and Lon columns entirely."
   ]
  },
  {
   "cell_type": "code",
   "execution_count": 25,
   "id": "aca1df31",
   "metadata": {},
   "outputs": [
    {
     "data": {
      "text/plain": [
       "Address Block       0.000000\n",
       "Trap                0.000000\n",
       "Trap type           0.000000\n",
       "Date                0.000000\n",
       "Mosquito number     0.000000\n",
       "Mosquito ID         0.000000\n",
       "WNV Present         0.000000\n",
       "Lat                15.811388\n",
       "Lon                15.811388\n",
       "dtype: float64"
      ]
     },
     "execution_count": 25,
     "metadata": {},
     "output_type": "execute_result"
    }
   ],
   "source": [
    "# check the proportions of null values\n",
    "mosquito.isna().sum()/mosquito.shape[0]*100"
   ]
  },
  {
   "cell_type": "code",
   "execution_count": 26,
   "id": "3bc0696d",
   "metadata": {},
   "outputs": [],
   "source": [
    "# saving a checkpoint\n",
    "mosquito3 = mosquito\n"
   ]
  },
  {
   "cell_type": "code",
   "execution_count": 27,
   "id": "1ba4f8f1",
   "metadata": {
    "scrolled": true
   },
   "outputs": [
    {
     "data": {
      "text/html": [
       "<div>\n",
       "<style scoped>\n",
       "    .dataframe tbody tr th:only-of-type {\n",
       "        vertical-align: middle;\n",
       "    }\n",
       "\n",
       "    .dataframe tbody tr th {\n",
       "        vertical-align: top;\n",
       "    }\n",
       "\n",
       "    .dataframe thead th {\n",
       "        text-align: right;\n",
       "    }\n",
       "</style>\n",
       "<table border=\"1\" class=\"dataframe\">\n",
       "  <thead>\n",
       "    <tr style=\"text-align: right;\">\n",
       "      <th></th>\n",
       "      <th>Address Block</th>\n",
       "      <th>Trap</th>\n",
       "      <th>Trap type</th>\n",
       "      <th>Date</th>\n",
       "      <th>Mosquito number</th>\n",
       "      <th>Mosquito ID</th>\n",
       "      <th>WNV Present</th>\n",
       "    </tr>\n",
       "  </thead>\n",
       "  <tbody>\n",
       "    <tr>\n",
       "      <th>0</th>\n",
       "      <td>100XX W OHARE AIRPORT</td>\n",
       "      <td>T910</td>\n",
       "      <td>GRAVID</td>\n",
       "      <td>2019-09-26 00:09:00</td>\n",
       "      <td>2</td>\n",
       "      <td>Res</td>\n",
       "      <td>negative</td>\n",
       "    </tr>\n",
       "    <tr>\n",
       "      <th>1</th>\n",
       "      <td>52XX S KOLMAR AVE</td>\n",
       "      <td>T114</td>\n",
       "      <td>GRAVID</td>\n",
       "      <td>2019-09-26 00:09:00</td>\n",
       "      <td>1</td>\n",
       "      <td>Res</td>\n",
       "      <td>negative</td>\n",
       "    </tr>\n",
       "    <tr>\n",
       "      <th>2</th>\n",
       "      <td>58XX N WESTERN AVE</td>\n",
       "      <td>T028</td>\n",
       "      <td>GRAVID</td>\n",
       "      <td>2019-09-26 00:09:00</td>\n",
       "      <td>2</td>\n",
       "      <td>Res</td>\n",
       "      <td>negative</td>\n",
       "    </tr>\n",
       "    <tr>\n",
       "      <th>3</th>\n",
       "      <td>39XX N SPRINGFIELD AVE</td>\n",
       "      <td>T228</td>\n",
       "      <td>GRAVID</td>\n",
       "      <td>2019-09-26 00:09:00</td>\n",
       "      <td>1</td>\n",
       "      <td>Res</td>\n",
       "      <td>negative</td>\n",
       "    </tr>\n",
       "    <tr>\n",
       "      <th>4</th>\n",
       "      <td>131XX S BRANDON AVE</td>\n",
       "      <td>T209</td>\n",
       "      <td>GRAVID</td>\n",
       "      <td>2019-09-26 00:09:00</td>\n",
       "      <td>9</td>\n",
       "      <td>Res</td>\n",
       "      <td>negative</td>\n",
       "    </tr>\n",
       "  </tbody>\n",
       "</table>\n",
       "</div>"
      ],
      "text/plain": [
       "            Address Block  Trap Trap type                Date  \\\n",
       "0   100XX W OHARE AIRPORT  T910    GRAVID 2019-09-26 00:09:00   \n",
       "1       52XX S KOLMAR AVE  T114    GRAVID 2019-09-26 00:09:00   \n",
       "2      58XX N WESTERN AVE  T028    GRAVID 2019-09-26 00:09:00   \n",
       "3  39XX N SPRINGFIELD AVE  T228    GRAVID 2019-09-26 00:09:00   \n",
       "4     131XX S BRANDON AVE  T209    GRAVID 2019-09-26 00:09:00   \n",
       "\n",
       "   Mosquito number Mosquito ID WNV Present  \n",
       "0                2         Res    negative  \n",
       "1                1         Res    negative  \n",
       "2                2         Res    negative  \n",
       "3                1         Res    negative  \n",
       "4                9         Res    negative  "
      ]
     },
     "execution_count": 27,
     "metadata": {},
     "output_type": "execute_result"
    }
   ],
   "source": [
    "# dropping the Latitude and Longitude columns\n",
    "mosquito = mosquito.drop(['Lat', 'Lon'], axis=1)\n",
    "mosquito.head()"
   ]
  },
  {
   "cell_type": "markdown",
   "id": "70006292",
   "metadata": {},
   "source": [
    "## Part 2 - Basic EDA"
   ]
  },
  {
   "cell_type": "markdown",
   "id": "6bf134f9",
   "metadata": {},
   "source": [
    "To look at the relationship between mosquito number and date, we will create a line plot. This will show how the mosquito number changes over time."
   ]
  },
  {
   "cell_type": "code",
   "execution_count": 28,
   "id": "2d6775f9",
   "metadata": {},
   "outputs": [
    {
     "name": "stderr",
     "output_type": "stream",
     "text": [
      "C:\\Users\\ralmz\\AppData\\Local\\Temp\\ipykernel_27756\\3311679310.py:2: FutureWarning: The default value of numeric_only in DataFrameGroupBy.sum is deprecated. In a future version, numeric_only will default to False. Either specify numeric_only or select only columns which should be valid for the function.\n",
      "  mosquito_monthly = mosquito.groupby(pd.Grouper(key='Date', freq='M')).sum().reset_index()\n"
     ]
    },
    {
     "data": {
      "image/png": "[encoded data removed]",
      "text/plain": [
       "<Figure size 640x480 with 1 Axes>"
      ]
     },
     "metadata": {},
     "output_type": "display_data"
    }
   ],
   "source": [
    "# separating the mosquito data into the sum of mosquitos captured every month\n",
    "mosquito_monthly = mosquito.groupby(pd.Grouper(key='Date', freq='M')).sum().reset_index()\n",
    "\n",
    "# plotting the relationship of mosquito number and date through the years by month\n",
    "sns.lineplot(x='Date', y='Mosquito number', data=mosquito_monthly)\n",
    "plt.ylabel('Number of mosquitos caught')\n",
    "plt.xlabel('Date')\n",
    "plt.title('Average number of mosquitos through the years by month')\n",
    "plt.show()\n"
   ]
  },
  {
   "cell_type": "markdown",
   "id": "e9cee171",
   "metadata": {},
   "source": [
    "Although messy, the line plot above shows spikes within the years. This means that there is seasonality to the mosquito numbers. The mosquito number seems to go though a cycle of a sudden burst followed by constant activity.\n",
    "\n",
    "To look into this seasonality aspect further, we will zoom into the year and see how the mosquito changes month by month as the year goes by."
   ]
  },
  {
   "cell_type": "code",
   "execution_count": 29,
   "id": "f4efd1b8",
   "metadata": {},
   "outputs": [
    {
     "data": {
      "text/html": [
       "<div>\n",
       "<style scoped>\n",
       "    .dataframe tbody tr th:only-of-type {\n",
       "        vertical-align: middle;\n",
       "    }\n",
       "\n",
       "    .dataframe tbody tr th {\n",
       "        vertical-align: top;\n",
       "    }\n",
       "\n",
       "    .dataframe thead th {\n",
       "        text-align: right;\n",
       "    }\n",
       "</style>\n",
       "<table border=\"1\" class=\"dataframe\">\n",
       "  <thead>\n",
       "    <tr style=\"text-align: right;\">\n",
       "      <th></th>\n",
       "      <th>Month</th>\n",
       "      <th>Mosquito number</th>\n",
       "    </tr>\n",
       "  </thead>\n",
       "  <tbody>\n",
       "    <tr>\n",
       "      <th>0</th>\n",
       "      <td>5</td>\n",
       "      <td>116</td>\n",
       "    </tr>\n",
       "    <tr>\n",
       "      <th>1</th>\n",
       "      <td>6</td>\n",
       "      <td>28607</td>\n",
       "    </tr>\n",
       "    <tr>\n",
       "      <th>2</th>\n",
       "      <td>7</td>\n",
       "      <td>59004</td>\n",
       "    </tr>\n",
       "    <tr>\n",
       "      <th>3</th>\n",
       "      <td>8</td>\n",
       "      <td>83229</td>\n",
       "    </tr>\n",
       "    <tr>\n",
       "      <th>4</th>\n",
       "      <td>9</td>\n",
       "      <td>29055</td>\n",
       "    </tr>\n",
       "    <tr>\n",
       "      <th>5</th>\n",
       "      <td>10</td>\n",
       "      <td>1210</td>\n",
       "    </tr>\n",
       "  </tbody>\n",
       "</table>\n",
       "</div>"
      ],
      "text/plain": [
       "   Month  Mosquito number\n",
       "0      5              116\n",
       "1      6            28607\n",
       "2      7            59004\n",
       "3      8            83229\n",
       "4      9            29055\n",
       "5     10             1210"
      ]
     },
     "execution_count": 29,
     "metadata": {},
     "output_type": "execute_result"
    }
   ],
   "source": [
    "# extract the month from the Date column and group by month, combining the same month for all years.\n",
    "mosquito['Month'] = mosquito['Date'].dt.month\n",
    "\n",
    "monthly_data = mosquito.groupby('Month')['Mosquito number'].sum().reset_index()\n",
    "monthly_data"
   ]
  },
  {
   "cell_type": "code",
   "execution_count": 30,
   "id": "a1183c27",
   "metadata": {},
   "outputs": [
    {
     "data": {
      "image/png": "[encoded data removed]",
      "text/plain": [
       "<Figure size 640x480 with 1 Axes>"
      ]
     },
     "metadata": {},
     "output_type": "display_data"
    }
   ],
   "source": [
    "# plotting the monthly data across all the years\n",
    "\n",
    "plt.figure()\n",
    "sns.barplot(x='Month',y='Mosquito number',data=monthly_data, estimator='sum')\n",
    "plt.title(\"Total Number of Mosquitos Caught per Month\")\n",
    "plt.ylabel('Total Number of Mosquitos Caught')\n",
    "plt.show()"
   ]
  },
  {
   "cell_type": "markdown",
   "id": "e42fd369",
   "metadata": {},
   "source": [
    "The bar graph above shows that there is seasonality with our mosquito numbers. During the hotter months of July and August, there seems to be much more mosquitos being captured. \n",
    "\n",
    "Mosquitos are very well adapted to warm, humid environments so this data is consistent with what we would expect. July and August are typically the hottest months of the year in Chicago, therefore, mosquitos will tend to be more active and reproduce much faster during these months."
   ]
  },
  {
   "cell_type": "markdown",
   "id": "b23d9d45",
   "metadata": {},
   "source": [
    "## Part 3 - Advanced EDA"
   ]
  },
  {
   "cell_type": "markdown",
   "id": "fd4d86fb",
   "metadata": {},
   "source": [
    "### 3.1 - Exploring the relationship between mosquito species and WNV prevalence\n",
    "\n",
    "To look at this relationship, we will plot the percentages of positve tests seen for each mosquito species and compare them with a bar plot."
   ]
  },
  {
   "cell_type": "code",
   "execution_count": 31,
   "id": "3754bd01",
   "metadata": {},
   "outputs": [
    {
     "data": {
      "image/png": "[encoded data removed]",
      "text/plain": [
       "<Figure size 640x480 with 1 Axes>"
      ]
     },
     "metadata": {},
     "output_type": "display_data"
    }
   ],
   "source": [
    "# grouping by the mosquito id and virus presence\n",
    "counts = mosquito.groupby(['Mosquito ID', 'WNV Present']).size().unstack()\n",
    "counts['Positive Percentage'] = (counts['positive']/(counts['positive'] + counts['negative']))*100\n",
    "\n",
    "# create a bar graph showing the percentage of positve tests for every mosquito species\n",
    "plt.figure()\n",
    "sns.barplot(x=counts.index, y='Positive Percentage', data=counts)\n",
    "plt.xlabel('Mosquito Species')\n",
    "plt.ylabel('Percentage of positive tests')\n",
    "plt.title('Percentage of Positive Tests per Species')\n",
    "plt.show()"
   ]
  },
  {
   "cell_type": "code",
   "execution_count": 32,
   "id": "aed2e468",
   "metadata": {},
   "outputs": [
    {
     "data": {
      "text/html": [
       "<div>\n",
       "<style scoped>\n",
       "    .dataframe tbody tr th:only-of-type {\n",
       "        vertical-align: middle;\n",
       "    }\n",
       "\n",
       "    .dataframe tbody tr th {\n",
       "        vertical-align: top;\n",
       "    }\n",
       "\n",
       "    .dataframe thead th {\n",
       "        text-align: right;\n",
       "    }\n",
       "</style>\n",
       "<table border=\"1\" class=\"dataframe\">\n",
       "  <thead>\n",
       "    <tr style=\"text-align: right;\">\n",
       "      <th>WNV Present</th>\n",
       "      <th>negative</th>\n",
       "      <th>positive</th>\n",
       "      <th>Positive Percentage</th>\n",
       "    </tr>\n",
       "    <tr>\n",
       "      <th>Mosquito ID</th>\n",
       "      <th></th>\n",
       "      <th></th>\n",
       "      <th></th>\n",
       "    </tr>\n",
       "  </thead>\n",
       "  <tbody>\n",
       "    <tr>\n",
       "      <th>Pip</th>\n",
       "      <td>4074</td>\n",
       "      <td>1412</td>\n",
       "      <td>25.738243</td>\n",
       "    </tr>\n",
       "    <tr>\n",
       "      <th>Res</th>\n",
       "      <td>9307</td>\n",
       "      <td>2557</td>\n",
       "      <td>21.552596</td>\n",
       "    </tr>\n",
       "    <tr>\n",
       "      <th>Sal</th>\n",
       "      <td>215</td>\n",
       "      <td>11</td>\n",
       "      <td>4.867257</td>\n",
       "    </tr>\n",
       "    <tr>\n",
       "      <th>Ter</th>\n",
       "      <td>903</td>\n",
       "      <td>14</td>\n",
       "      <td>1.526718</td>\n",
       "    </tr>\n",
       "  </tbody>\n",
       "</table>\n",
       "</div>"
      ],
      "text/plain": [
       "WNV Present  negative  positive  Positive Percentage\n",
       "Mosquito ID                                         \n",
       "Pip              4074      1412            25.738243\n",
       "Res              9307      2557            21.552596\n",
       "Sal               215        11             4.867257\n",
       "Ter               903        14             1.526718"
      ]
     },
     "metadata": {},
     "output_type": "display_data"
    }
   ],
   "source": [
    "# displaying the number of positive and negative tests, as well as the percentage of positive tests\n",
    "display(counts)"
   ]
  },
  {
   "cell_type": "markdown",
   "id": "b3cae391",
   "metadata": {},
   "source": [
    "Looking at the above bar chart, we are able to see the proportions of positive tests seen for each species of Mosquito. It looks like there is a relationship between mosquito species and the proportion of positive tests\n",
    "\n",
    "The ranking based on highest WNV prevalence to lowest would be as follows:\n",
    "1. *Culex Pipiens* - 23.5%\n",
    "2. *Culex Restuans* - 18.7%\n",
    "3. *Culex Salinarius* - 3.2%\n",
    "4. *Culex Territans* - 1.5%\n",
    "\n",
    "As we could see, *Culex Pipiens* and *Culex Restuans* saw a much much higher WNV prevalence than the other two species. There could be a number of factors that are responsible for this such as immunity, behaviour, genetic, and environmental factors that need further research and experimentation to confirm. For now, it is sufficent to say that the WNV is more prevalent in *Culex Pipiens* and *Culex Restuans* species."
   ]
  },
  {
   "cell_type": "markdown",
   "id": "032c0b1b",
   "metadata": {},
   "source": [
    "## 3.2 - Exploring the relationship between the number of mosquitos caught and trap type\n",
    "\n",
    "To investigate this relationship, we will use a boxplot to show the median and range of the amount of mosquitos caught with each trap, to gain a better understanding of their relationship"
   ]
  },
  {
   "cell_type": "code",
   "execution_count": 33,
   "id": "ebe26612",
   "metadata": {},
   "outputs": [
    {
     "data": {
      "image/png": "[encoded data removed]",
      "text/plain": [
       "<Figure size 640x480 with 1 Axes>"
      ]
     },
     "metadata": {},
     "output_type": "display_data"
    }
   ],
   "source": [
    "# Using a box plot to represent relationship between number of mosquitos and type of trap\n",
    "plt.figure()\n",
    "sns.boxplot(x='Trap type', y='Mosquito number', data=mosquito)\n",
    "plt.title('Number of Mosquitos caught per trap type')\n",
    "plt.ylabel('Number of Mosquitos caught')\n",
    "plt.xlabel('Trap type')\n",
    "plt.show()"
   ]
  },
  {
   "cell_type": "code",
   "execution_count": 34,
   "id": "e741ffc6",
   "metadata": {},
   "outputs": [
    {
     "data": {
      "text/html": [
       "<div>\n",
       "<style scoped>\n",
       "    .dataframe tbody tr th:only-of-type {\n",
       "        vertical-align: middle;\n",
       "    }\n",
       "\n",
       "    .dataframe tbody tr th {\n",
       "        vertical-align: top;\n",
       "    }\n",
       "\n",
       "    .dataframe thead th {\n",
       "        text-align: right;\n",
       "    }\n",
       "</style>\n",
       "<table border=\"1\" class=\"dataframe\">\n",
       "  <thead>\n",
       "    <tr style=\"text-align: right;\">\n",
       "      <th></th>\n",
       "      <th>Address Block</th>\n",
       "      <th>Trap</th>\n",
       "      <th>Trap type</th>\n",
       "      <th>Date</th>\n",
       "      <th>Mosquito number</th>\n",
       "      <th>Mosquito ID</th>\n",
       "      <th>WNV Present</th>\n",
       "      <th>Month</th>\n",
       "    </tr>\n",
       "  </thead>\n",
       "  <tbody>\n",
       "    <tr>\n",
       "      <th>15392</th>\n",
       "      <td>5XX S CENTRAL AVE</td>\n",
       "      <td>T167</td>\n",
       "      <td>OVI</td>\n",
       "      <td>2007-06-29 11:06:17</td>\n",
       "      <td>1</td>\n",
       "      <td>Pip</td>\n",
       "      <td>negative</td>\n",
       "      <td>6</td>\n",
       "    </tr>\n",
       "  </tbody>\n",
       "</table>\n",
       "</div>"
      ],
      "text/plain": [
       "           Address Block  Trap Trap type                Date  Mosquito number  \\\n",
       "15392  5XX S CENTRAL AVE  T167       OVI 2007-06-29 11:06:17                1   \n",
       "\n",
       "      Mosquito ID WNV Present  Month  \n",
       "15392         Pip    negative      6  "
      ]
     },
     "metadata": {},
     "output_type": "display_data"
    }
   ],
   "source": [
    "# taking a look at all the rows with a trap type of OVI\n",
    "display(mosquito[mosquito['Trap type'] == 'OVI'])"
   ]
  },
  {
   "cell_type": "markdown",
   "id": "b18fd566",
   "metadata": {},
   "source": [
    "Shown above, the OVI trap type has only been used once and caught one mosquito. This does not show us what it is capable of. This trap type has likely been taken away from circulation for reasons that are unknown. It was last used in 2007, 13 years before the latest data point.\n",
    "\n",
    "As we could see with the box and whiskers plot above, the SENTINEL trap type was ultimately the most successful at capturing the most mosquitos per test, followed by the CDC trap. This means that the SENTINEL and CDC traps are able to take in more mosquitos in one time, compared to the others. This box plot also tells us that the GRAVID traps are the most consistent. With a much denser middle 50%, we see that it will consistently capture about 3-13 mosquitos, 50% of the time, while the SENTINEL and CDC have a much broader range of capture, giving them the potential to capture upwards of 40 mosquitos at a time. These trap types are likely also responsible for maxing out the Mosquito number column and adding rows by splitting their captures to another row."
   ]
  },
  {
   "cell_type": "markdown",
   "id": "7d501864",
   "metadata": {},
   "source": [
    "## 3.3 - Exploring the relationship of Trap type and Mosquito Species, based on Positive WNV tests\n",
    "\n",
    "We will investigate this relationship through the use of a heatmap. This will allow us to see patterns or relationships between the trap type and mosquito species. for this, we will drop the OVI trap type since there was only one capture using this trap.\n",
    "\n",
    "To start, we will group together the mosquitos by species and trap type to have a look at the total Mosquito numbers between the groups. This is to get a general overview of which traps work best, and on which species of mosquito."
   ]
  },
  {
   "cell_type": "code",
   "execution_count": 35,
   "id": "5b3c2065",
   "metadata": {},
   "outputs": [
    {
     "data": {
      "text/html": [
       "<div>\n",
       "<style scoped>\n",
       "    .dataframe tbody tr th:only-of-type {\n",
       "        vertical-align: middle;\n",
       "    }\n",
       "\n",
       "    .dataframe tbody tr th {\n",
       "        vertical-align: top;\n",
       "    }\n",
       "\n",
       "    .dataframe thead th {\n",
       "        text-align: right;\n",
       "    }\n",
       "</style>\n",
       "<table border=\"1\" class=\"dataframe\">\n",
       "  <thead>\n",
       "    <tr style=\"text-align: right;\">\n",
       "      <th></th>\n",
       "      <th>Address Block</th>\n",
       "      <th>Trap</th>\n",
       "      <th>Trap type</th>\n",
       "      <th>Date</th>\n",
       "      <th>Mosquito number</th>\n",
       "      <th>Mosquito ID</th>\n",
       "      <th>WNV Present</th>\n",
       "      <th>Month</th>\n",
       "    </tr>\n",
       "  </thead>\n",
       "  <tbody>\n",
       "    <tr>\n",
       "      <th>0</th>\n",
       "      <td>100XX W OHARE AIRPORT</td>\n",
       "      <td>T910</td>\n",
       "      <td>GRAVID</td>\n",
       "      <td>2019-09-26 00:09:00</td>\n",
       "      <td>2</td>\n",
       "      <td>Res</td>\n",
       "      <td>negative</td>\n",
       "      <td>9</td>\n",
       "    </tr>\n",
       "    <tr>\n",
       "      <th>1</th>\n",
       "      <td>52XX S KOLMAR AVE</td>\n",
       "      <td>T114</td>\n",
       "      <td>GRAVID</td>\n",
       "      <td>2019-09-26 00:09:00</td>\n",
       "      <td>1</td>\n",
       "      <td>Res</td>\n",
       "      <td>negative</td>\n",
       "      <td>9</td>\n",
       "    </tr>\n",
       "    <tr>\n",
       "      <th>2</th>\n",
       "      <td>58XX N WESTERN AVE</td>\n",
       "      <td>T028</td>\n",
       "      <td>GRAVID</td>\n",
       "      <td>2019-09-26 00:09:00</td>\n",
       "      <td>2</td>\n",
       "      <td>Res</td>\n",
       "      <td>negative</td>\n",
       "      <td>9</td>\n",
       "    </tr>\n",
       "    <tr>\n",
       "      <th>3</th>\n",
       "      <td>39XX N SPRINGFIELD AVE</td>\n",
       "      <td>T228</td>\n",
       "      <td>GRAVID</td>\n",
       "      <td>2019-09-26 00:09:00</td>\n",
       "      <td>1</td>\n",
       "      <td>Res</td>\n",
       "      <td>negative</td>\n",
       "      <td>9</td>\n",
       "    </tr>\n",
       "    <tr>\n",
       "      <th>4</th>\n",
       "      <td>131XX S BRANDON AVE</td>\n",
       "      <td>T209</td>\n",
       "      <td>GRAVID</td>\n",
       "      <td>2019-09-26 00:09:00</td>\n",
       "      <td>9</td>\n",
       "      <td>Res</td>\n",
       "      <td>negative</td>\n",
       "      <td>9</td>\n",
       "    </tr>\n",
       "  </tbody>\n",
       "</table>\n",
       "</div>"
      ],
      "text/plain": [
       "            Address Block  Trap Trap type                Date  \\\n",
       "0   100XX W OHARE AIRPORT  T910    GRAVID 2019-09-26 00:09:00   \n",
       "1       52XX S KOLMAR AVE  T114    GRAVID 2019-09-26 00:09:00   \n",
       "2      58XX N WESTERN AVE  T028    GRAVID 2019-09-26 00:09:00   \n",
       "3  39XX N SPRINGFIELD AVE  T228    GRAVID 2019-09-26 00:09:00   \n",
       "4     131XX S BRANDON AVE  T209    GRAVID 2019-09-26 00:09:00   \n",
       "\n",
       "   Mosquito number Mosquito ID WNV Present  Month  \n",
       "0                2         Res    negative      9  \n",
       "1                1         Res    negative      9  \n",
       "2                2         Res    negative      9  \n",
       "3                1         Res    negative      9  \n",
       "4                9         Res    negative      9  "
      ]
     },
     "execution_count": 35,
     "metadata": {},
     "output_type": "execute_result"
    }
   ],
   "source": [
    "# looking into the dataframe\n",
    "mosquito.head()"
   ]
  },
  {
   "cell_type": "code",
   "execution_count": 36,
   "id": "2eb80638",
   "metadata": {},
   "outputs": [
    {
     "data": {
      "text/html": [
       "<div>\n",
       "<style scoped>\n",
       "    .dataframe tbody tr th:only-of-type {\n",
       "        vertical-align: middle;\n",
       "    }\n",
       "\n",
       "    .dataframe tbody tr th {\n",
       "        vertical-align: top;\n",
       "    }\n",
       "\n",
       "    .dataframe thead th {\n",
       "        text-align: right;\n",
       "    }\n",
       "</style>\n",
       "<table border=\"1\" class=\"dataframe\">\n",
       "  <thead>\n",
       "    <tr style=\"text-align: right;\">\n",
       "      <th>Trap type</th>\n",
       "      <th>CDC</th>\n",
       "      <th>GRAVID</th>\n",
       "      <th>OVI</th>\n",
       "      <th>SENTINEL</th>\n",
       "    </tr>\n",
       "    <tr>\n",
       "      <th>Mosquito ID</th>\n",
       "      <th></th>\n",
       "      <th></th>\n",
       "      <th></th>\n",
       "      <th></th>\n",
       "    </tr>\n",
       "  </thead>\n",
       "  <tbody>\n",
       "    <tr>\n",
       "      <th>Pip</th>\n",
       "      <td>8988.0</td>\n",
       "      <td>52120.0</td>\n",
       "      <td>1.0</td>\n",
       "      <td>255.0</td>\n",
       "    </tr>\n",
       "    <tr>\n",
       "      <th>Res</th>\n",
       "      <td>829.0</td>\n",
       "      <td>131926.0</td>\n",
       "      <td>NaN</td>\n",
       "      <td>4828.0</td>\n",
       "    </tr>\n",
       "    <tr>\n",
       "      <th>Sal</th>\n",
       "      <td>41.0</td>\n",
       "      <td>375.0</td>\n",
       "      <td>NaN</td>\n",
       "      <td>48.0</td>\n",
       "    </tr>\n",
       "    <tr>\n",
       "      <th>Ter</th>\n",
       "      <td>25.0</td>\n",
       "      <td>1782.0</td>\n",
       "      <td>NaN</td>\n",
       "      <td>3.0</td>\n",
       "    </tr>\n",
       "  </tbody>\n",
       "</table>\n",
       "</div>"
      ],
      "text/plain": [
       "Trap type       CDC    GRAVID  OVI  SENTINEL\n",
       "Mosquito ID                                 \n",
       "Pip          8988.0   52120.0  1.0     255.0\n",
       "Res           829.0  131926.0  NaN    4828.0\n",
       "Sal            41.0     375.0  NaN      48.0\n",
       "Ter            25.0    1782.0  NaN       3.0"
      ]
     },
     "metadata": {},
     "output_type": "display_data"
    },
    {
     "data": {
      "image/png": "[encoded data removed]",
      "text/plain": [
       "<Figure size 640x480 with 2 Axes>"
      ]
     },
     "metadata": {},
     "output_type": "display_data"
    }
   ],
   "source": [
    "# Create pivot table with mosquito species as rows, trap type as columns, and sum of mosquito number as the value\n",
    "number_sum_pivot = mosquito.pivot_table(index='Mosquito ID', columns='Trap type', values='Mosquito number', aggfunc='sum')\n",
    "display(number_sum_pivot)\n",
    "\n",
    "# create heatmap showing pivot table\n",
    "plt.figure()\n",
    "sns.heatmap(number_sum_pivot, annot=True, cmap='crest', norm=LogNorm())\n",
    "plt.title('Total Number of Mosquitos Caught by Mosquito Species and Trap Type')\n",
    "plt.ylabel('Mosquito Species')\n",
    "plt.show()"
   ]
  },
  {
   "cell_type": "code",
   "execution_count": 37,
   "id": "d9eaad78",
   "metadata": {},
   "outputs": [
    {
     "data": {
      "text/html": [
       "<div>\n",
       "<style scoped>\n",
       "    .dataframe tbody tr th:only-of-type {\n",
       "        vertical-align: middle;\n",
       "    }\n",
       "\n",
       "    .dataframe tbody tr th {\n",
       "        vertical-align: top;\n",
       "    }\n",
       "\n",
       "    .dataframe thead th {\n",
       "        text-align: right;\n",
       "    }\n",
       "</style>\n",
       "<table border=\"1\" class=\"dataframe\">\n",
       "  <thead>\n",
       "    <tr style=\"text-align: right;\">\n",
       "      <th>Trap type</th>\n",
       "      <th>CDC</th>\n",
       "      <th>GRAVID</th>\n",
       "      <th>OVI</th>\n",
       "      <th>SENTINEL</th>\n",
       "    </tr>\n",
       "    <tr>\n",
       "      <th>Mosquito ID</th>\n",
       "      <th></th>\n",
       "      <th></th>\n",
       "      <th></th>\n",
       "      <th></th>\n",
       "    </tr>\n",
       "  </thead>\n",
       "  <tbody>\n",
       "    <tr>\n",
       "      <th>Pip</th>\n",
       "      <td>23.164948</td>\n",
       "      <td>10.261863</td>\n",
       "      <td>1.0</td>\n",
       "      <td>14.166667</td>\n",
       "    </tr>\n",
       "    <tr>\n",
       "      <th>Res</th>\n",
       "      <td>6.685484</td>\n",
       "      <td>11.419198</td>\n",
       "      <td>NaN</td>\n",
       "      <td>25.818182</td>\n",
       "    </tr>\n",
       "    <tr>\n",
       "      <th>Sal</th>\n",
       "      <td>2.050000</td>\n",
       "      <td>1.829268</td>\n",
       "      <td>NaN</td>\n",
       "      <td>48.000000</td>\n",
       "    </tr>\n",
       "    <tr>\n",
       "      <th>Ter</th>\n",
       "      <td>2.083333</td>\n",
       "      <td>1.975610</td>\n",
       "      <td>NaN</td>\n",
       "      <td>1.000000</td>\n",
       "    </tr>\n",
       "  </tbody>\n",
       "</table>\n",
       "</div>"
      ],
      "text/plain": [
       "Trap type          CDC     GRAVID  OVI   SENTINEL\n",
       "Mosquito ID                                      \n",
       "Pip          23.164948  10.261863  1.0  14.166667\n",
       "Res           6.685484  11.419198  NaN  25.818182\n",
       "Sal           2.050000   1.829268  NaN  48.000000\n",
       "Ter           2.083333   1.975610  NaN   1.000000"
      ]
     },
     "metadata": {},
     "output_type": "display_data"
    },
    {
     "data": {
      "image/png": "[encoded data removed]",
      "text/plain": [
       "<Figure size 640x480 with 2 Axes>"
      ]
     },
     "metadata": {},
     "output_type": "display_data"
    }
   ],
   "source": [
    "# Create pivot table with mosquito species as rows, trap type as columns, and avg of mosquitos captured as the value\n",
    "number_mean_pivot = mosquito.pivot_table(index='Mosquito ID', columns='Trap type', values='Mosquito number', aggfunc='mean')\n",
    "display(number_mean_pivot)\n",
    "\n",
    "# create heatmap showing pivot table\n",
    "plt.figure()\n",
    "sns.heatmap(number_mean_pivot, annot=True, cmap='crest')\n",
    "plt.title('Average Number of Mosquitos Caught by Mosquito Species and Trap Type')\n",
    "plt.ylabel('Mosquito Species')\n",
    "plt.show()"
   ]
  },
  {
   "cell_type": "markdown",
   "id": "46c7900d",
   "metadata": {},
   "source": [
    "As we can see above, the OVI trap type only captured one mosquito. This is good reason to remove it from the analysis. Additionally, the CDC and SENTINEL trap types seemed to be the most successful as we've seen above, capturing the majority of mosquitos through all the species. \n",
    "\n",
    "According to the heatmap looking at the mean Mosquito numbers:\n",
    "- The CDC trap is best at capturing *Culex Pipiens*\n",
    "- The GRAVID trap is best at capturing *Culex Restuans*\n",
    "- The SENTINEL trap is best at capturing *Culex Salinarius*\n",
    "\n",
    "However, we cannot conclude that this is true since the CDC and SENTINEL still more frequently capture *Culex Pipiens* and *Culex Restuans*. This is possibly due to the higher nature of their population in the wild. Nevertheless, we are unable to conclude that SENTINEL traps would ultimately be the best form of trap to capture *Culex Salinarius*\n",
    "\n",
    "We must also remember what is said above. The CDC and SENTINEL trap types may have captured more than 50 mosquitos at a time, which is recorded since the the mosquito number is capped at 50 for each row during data collection.\n",
    "\n",
    "Next, we will be looking at the proportion of positive tests for each group of test results."
   ]
  },
  {
   "cell_type": "code",
   "execution_count": 38,
   "id": "785206ab",
   "metadata": {},
   "outputs": [
    {
     "data": {
      "text/html": [
       "<div>\n",
       "<style scoped>\n",
       "    .dataframe tbody tr th:only-of-type {\n",
       "        vertical-align: middle;\n",
       "    }\n",
       "\n",
       "    .dataframe tbody tr th {\n",
       "        vertical-align: top;\n",
       "    }\n",
       "\n",
       "    .dataframe thead th {\n",
       "        text-align: right;\n",
       "    }\n",
       "</style>\n",
       "<table border=\"1\" class=\"dataframe\">\n",
       "  <thead>\n",
       "    <tr style=\"text-align: right;\">\n",
       "      <th>Trap type</th>\n",
       "      <th>CDC</th>\n",
       "      <th>GRAVID</th>\n",
       "      <th>OVI</th>\n",
       "      <th>SENTINEL</th>\n",
       "    </tr>\n",
       "    <tr>\n",
       "      <th>Mosquito ID</th>\n",
       "      <th></th>\n",
       "      <th></th>\n",
       "      <th></th>\n",
       "      <th></th>\n",
       "    </tr>\n",
       "  </thead>\n",
       "  <tbody>\n",
       "    <tr>\n",
       "      <th>Pip</th>\n",
       "      <td>0.311856</td>\n",
       "      <td>0.253790</td>\n",
       "      <td>0.0</td>\n",
       "      <td>0.111111</td>\n",
       "    </tr>\n",
       "    <tr>\n",
       "      <th>Res</th>\n",
       "      <td>0.000000</td>\n",
       "      <td>0.214317</td>\n",
       "      <td>NaN</td>\n",
       "      <td>0.433155</td>\n",
       "    </tr>\n",
       "    <tr>\n",
       "      <th>Sal</th>\n",
       "      <td>0.000000</td>\n",
       "      <td>0.053659</td>\n",
       "      <td>NaN</td>\n",
       "      <td>0.000000</td>\n",
       "    </tr>\n",
       "    <tr>\n",
       "      <th>Ter</th>\n",
       "      <td>0.000000</td>\n",
       "      <td>0.015521</td>\n",
       "      <td>NaN</td>\n",
       "      <td>0.000000</td>\n",
       "    </tr>\n",
       "  </tbody>\n",
       "</table>\n",
       "</div>"
      ],
      "text/plain": [
       "Trap type         CDC    GRAVID  OVI  SENTINEL\n",
       "Mosquito ID                                   \n",
       "Pip          0.311856  0.253790  0.0  0.111111\n",
       "Res          0.000000  0.214317  NaN  0.433155\n",
       "Sal          0.000000  0.053659  NaN  0.000000\n",
       "Ter          0.000000  0.015521  NaN  0.000000"
      ]
     },
     "metadata": {},
     "output_type": "display_data"
    },
    {
     "data": {
      "image/png": "[encoded data removed]",
      "text/plain": [
       "<Figure size 640x480 with 2 Axes>"
      ]
     },
     "metadata": {},
     "output_type": "display_data"
    }
   ],
   "source": [
    "# Create pivot table with mosquito species as rows, trap type as columns, and proportion of positive virus tests as the value\n",
    "virus_pivot = mosquito.pivot_table(index='Mosquito ID', columns='Trap type', values='WNV Present', aggfunc= lambda x: sum(x=='positive')/len(x))\n",
    "display(virus_pivot)\n",
    "\n",
    "# create heatmap showing pivot table\n",
    "plt.figure()\n",
    "sns.heatmap(virus_pivot.drop('OVI', axis=1), annot=True, cmap='crest')\n",
    "plt.title('Proportion of Positive Virus Tests by Mosquito Species and Trap Type')\n",
    "plt.ylabel('Mosquito Species')\n",
    "plt.show()"
   ]
  },
  {
   "cell_type": "markdown",
   "id": "00e00921",
   "metadata": {},
   "source": [
    "The heatmap above shows that the SENTINEL trap capturing the *Culex Restuans* species shows the highest proportion of positive tests. The CDC seems to be unable to detect positive tests from any species other than the *Culex Pipiens*. We can trust the data dealing with both these species (*Culex Restuans* and *Culex Pipiens*) since we have a high enough sample size for each of these species and its designated traps. We cannot conclude if we can render positive results from CDC and SENTINEL traps when dealing with the other two species. We see evidence of positive results on these *Culex Salinarius* and *Culex Territans* species through the GRAVID traps but not alot. These also have a posibility of being false positives since they have about a 1-3% positive test rate."
   ]
  },
  {
   "cell_type": "markdown",
   "id": "54112da0",
   "metadata": {},
   "source": [
    "## Limitations:\n",
    "\n",
    "The biggest limitation is the method of data collection. Since no more than 50 mosquitos can be recorded at one time, we are unable to see the true range of mosquito numbers for each trap type. This does not let us see what each trap is truly capable of and we must take this into account when analyzing our data. This analysis should be redone with the whole mosquito number for each capture. It is difficult to sum these up on our own since we may also be summing up other duplicates that are not separate rows.\n",
    "\n",
    "Having NULL Latitude and Longitude values are also a problem since we were not able to say with certainty that some rows were duplicated. This did not let us drop all the rows seen as 'duplicated'. This was even more problematic for summing together the Mosquito number for rows that were capped at 50. We were unable to say with full confidence that these were from the same trap since they all lacked LAT and LON values. \n",
    "\n",
    "This capping at 50 is a bug in the traps that must be fixed.\n"
   ]
  },
  {
   "cell_type": "markdown",
   "id": "bf60fe24",
   "metadata": {},
   "source": [
    "## Conclusion:\n",
    "\n",
    "Tracking and understanding the West Nile Virus is important for limiting the transmission of the disease. As this is carried by mosquitos, understanding mosquitos and their activity throughout the year is very important. We see that mosquito numbers have a seasonality to them. In the summer months of July and August, they significantly increase in abundance and can be seen to thrive in the summer. The data also shows that the *Culex Pipiens* species saw the highest percentage of positive tests for the WNV. This could mean that they spread the virus more than other species. The GRAVID trap type seemed to be used the most. However, the CDC and SENTINEL trap types are able to catch the highest range of mosquito numbers, while the GRAVID catches a lower number of mosquitos. Lastly, we see that The SENTINEL is great at catching *Culex Restuans* with positive results while the CDC is great at catching *Culex Pipiens* with positive test results. The GRAVID catches all kinds of species but is limited in catching *Culex Salinarius* and *Culex Territans* due to the possible low population out in the wild "
   ]
  }
 ],
 "metadata": {
  "kernelspec": {
   "display_name": "Python 3 (ipykernel)",
   "language": "python",
   "name": "python3"
  },
  "language_info": {
   "codemirror_mode": {
    "name": "ipython",
    "version": 3
   },
   "file_extension": ".py",
   "mimetype": "text/x-python",
   "name": "python",
   "nbconvert_exporter": "python",
   "pygments_lexer": "ipython3",
   "version": "3.9.13"
  }
 },
 "nbformat": 4,
 "nbformat_minor": 5
}
